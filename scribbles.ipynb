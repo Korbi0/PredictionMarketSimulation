{
 "cells": [
  {
   "cell_type": "code",
   "execution_count": 9,
   "metadata": {},
   "outputs": [],
   "source": [
    "from classes import Market_Maker_binary\n",
    "import numpy as np\n",
    "def get_price(b, x, y, direction, buysell, amount):\n",
    "    m = Market_Maker_binary(b, (x, y))\n",
    "    p = m.quote_price(direction, buysell, amount)\n",
    "    return p"
   ]
  },
  {
   "cell_type": "code",
   "execution_count": 10,
   "metadata": {},
   "outputs": [],
   "source": [
    "m = Market_Maker_binary(10, (0, 0))\n"
   ]
  },
  {
   "cell_type": "code",
   "execution_count": 11,
   "metadata": {},
   "outputs": [
    {
     "name": "stdout",
     "output_type": "stream",
     "text": [
      "Making trade: The trader is selling a bet on the proposition, which would pay out $1\n",
      "Current cost: 6.931471805599453; current cash: 0.0; current payout: (0, 0)\n",
      "Cost difference: -0.48750520486374427\n",
      "New cost: 6.443966600735709; new cash -0.48750520486374427; new payout: [-1  0]\n"
     ]
    }
   ],
   "source": [
    "m.make_trade(\"yes\", \"sell\", 1)"
   ]
  },
  {
   "cell_type": "code",
   "execution_count": 12,
   "metadata": {},
   "outputs": [
    {
     "name": "stdout",
     "output_type": "stream",
     "text": [
      "Making trade: The trader is selling a bet on the proposition, which would pay out $1\n",
      "Current cost: 6.443966600735709; current cash: -0.48750520486374427; current payout: [-1  0]\n",
      "Cost difference: -0.4625779069197913\n",
      "New cost: 5.9813886938159175; new cash -0.9500831117835355; new payout: [-2  0]\n"
     ]
    }
   ],
   "source": [
    "m.make_trade(\"yes\", \"sell\", 1)"
   ]
  },
  {
   "cell_type": "code",
   "execution_count": 13,
   "metadata": {},
   "outputs": [
    {
     "name": "stdout",
     "output_type": "stream",
     "text": [
      "Making trade: The trader is selling a bet on the proposition, which would pay out $1\n",
      "Current cost: 5.9813886938159175; current cash: -0.9500831117835355; current payout: [-2  0]\n",
      "Cost difference: -0.43783624913064756\n",
      "New cost: 5.54355244468527; new cash -1.387919360914183; new payout: [-3  0]\n"
     ]
    }
   ],
   "source": [
    "m.make_trade(\"yes\", \"sell\", 1)"
   ]
  },
  {
   "cell_type": "code",
   "execution_count": 14,
   "metadata": {},
   "outputs": [
    {
     "data": {
      "text/plain": [
       "-0.4133999206857437"
      ]
     },
     "execution_count": 14,
     "metadata": {},
     "output_type": "execute_result"
    }
   ],
   "source": [
    "m.quote_price(\"yes\", \"sell\", 1)"
   ]
  },
  {
   "cell_type": "code",
   "execution_count": 15,
   "metadata": {},
   "outputs": [
    {
     "name": "stdout",
     "output_type": "stream",
     "text": [
      "Making trade: The trader is selling a bet on the proposition, which would pay out $1\n",
      "Current cost: 5.54355244468527; current cash: -1.387919360914183; current payout: [-3  0]\n",
      "Cost difference: -0.4133999206857437\n",
      "New cost: 5.130152523999526; new cash -1.8013192815999268; new payout: [-4  0]\n"
     ]
    }
   ],
   "source": [
    "m.make_trade(\"yes\", \"sell\", 1)"
   ]
  },
  {
   "cell_type": "code",
   "execution_count": 16,
   "metadata": {},
   "outputs": [
    {
     "data": {
      "text/plain": [
       "-0.38938268219845984"
      ]
     },
     "execution_count": 16,
     "metadata": {},
     "output_type": "execute_result"
    }
   ],
   "source": [
    "m.quote_price(\"yes\", \"sell\", 1)"
   ]
  }
 ],
 "metadata": {
  "kernelspec": {
   "display_name": "Python 3.8.10 ('apple_tensorflow')",
   "language": "python",
   "name": "python3"
  },
  "language_info": {
   "codemirror_mode": {
    "name": "ipython",
    "version": 3
   },
   "file_extension": ".py",
   "mimetype": "text/x-python",
   "name": "python",
   "nbconvert_exporter": "python",
   "pygments_lexer": "ipython3",
   "version": "3.8.10"
  },
  "orig_nbformat": 4,
  "vscode": {
   "interpreter": {
    "hash": "7ecae0529af0c501687ff4d16fc91fad4904a7285bfcfddae3bc94054f8b1983"
   }
  }
 },
 "nbformat": 4,
 "nbformat_minor": 2
}
